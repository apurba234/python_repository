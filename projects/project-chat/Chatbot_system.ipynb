{
 "cells": [
  {
   "cell_type": "code",
   "execution_count": 2,
   "id": "ad4c6164-ee2a-42e5-86ae-dbb2cc12b337",
   "metadata": {},
   "outputs": [
    {
     "name": "stdout",
     "output_type": "stream",
     "text": [
      "\t\t\t\tWelcome to the chatbot system of the University of Poppleton.\n",
      "\t\t\tI am your chatbot agent to help you with any questions related to the university.\n",
      "\t\t\t\t\t\t\tlet’s get started!\n",
      "\n",
      "\n",
      "|JSON File loaded successfully.|\n",
      "\n",
      "\n",
      "Hello, I am your agent Vince. Nice to meet you!\n",
      "\n",
      "Vince: How can I help you today?\n",
      "-----------------------------------\n"
     ]
    },
    {
     "name": "stdin",
     "output_type": "stream",
     "text": [
      "You:  HELLO\n"
     ]
    },
    {
     "name": "stdout",
     "output_type": "stream",
     "text": [
      "Vince: Hey! I am here to help. What can I assist you with today?\n",
      "------------------------------------------------------------------------------------------------------------------------\n"
     ]
    },
    {
     "name": "stdin",
     "output_type": "stream",
     "text": [
      "You:  how are you\n"
     ]
    },
    {
     "name": "stdout",
     "output_type": "stream",
     "text": [
      "Vince: Hey! I am here to help. What can I assist you with today?\n",
      "------------------------------------------------------------------------------------------------------------------------\n"
     ]
    },
    {
     "name": "stdin",
     "output_type": "stream",
     "text": [
      "You:  housing facilities\n"
     ]
    },
    {
     "name": "stdout",
     "output_type": "stream",
     "text": [
      "Vince: Our campus offers essential facilities, including a gym, a well-equipped library, fully operated computer labs, fully equipped science laboratories, and spacious basketball and football courts.\n",
      "------------------------------------------------------------------------------------------------------------------------\n"
     ]
    },
    {
     "name": "stdin",
     "output_type": "stream",
     "text": [
      "You:  admission requirements\n"
     ]
    },
    {
     "name": "stdout",
     "output_type": "stream",
     "text": [
      "Vince: Admission requirements vary by program. For Computer Science, a minimum of 55% in relevant subjects in High School. For Business Administration, a minimum GPA of 2.50 GPA is required. For Fashion Design, a minimum of 2.00 GPA is required. For Engineering, a minimum of 3.00 GPA is required with a strong foundation in mathematics.\n",
      "------------------------------------------------------------------------------------------------------------------------\n"
     ]
    },
    {
     "name": "stdin",
     "output_type": "stream",
     "text": [
      "You:  ok\n"
     ]
    },
    {
     "name": "stdout",
     "output_type": "stream",
     "text": [
      "Vince: Great! Do you have any other questions?\n",
      "------------------------------------------------------------------------------------------------------------------------\n"
     ]
    },
    {
     "name": "stdin",
     "output_type": "stream",
     "text": [
      "You:  bye\n"
     ]
    },
    {
     "name": "stdout",
     "output_type": "stream",
     "text": [
      "Vince: Thank you for your time! Hoping to meet you again!\n",
      "\n",
      "\n",
      "|Logged into txt file successfully.|\n"
     ]
    },
    {
     "name": "stdout",
     "output_type": "stream",
     "text": [
      "Clive: Hey! I am here to help. What can I assist you with today?\n",
      "------------------------------------------------------------------------------------------------------------------------\n"
     ]
    },
    {
     "name": "stdout",
     "output_type": "stream",
     "text": [
      "You:  what are the courses here\n"
     ]
    },
    {
     "name": "stdout",
     "output_type": "stream",
     "text": [
      "Clive: We offer a variety of programs inic Computer Science, Business Administration, Fashion Design, and Engineering.\n",
      "------------------------------------------------------------------------------------------------------------------------\n"
     ]
    },
    {
     "name": "stdout",
     "output_type": "stream",
     "text": [
      "You:  any online course\n"
     ]
    },
    {
     "name": "stdout",
     "output_type": "stream",
     "text": [
      "Clive: We offer online learning programs in Business Administration, focusing on Investment and Accounting only.\n",
      "------------------------------------------------------------------------------------------------------------------------\n"
     ]
    },
    {
     "name": "stdout",
     "output_type": "stream",
     "text": [
      "You:  where can i stay\n"
     ]
    },
    {
     "name": "stdout",
     "output_type": "stream",
     "text": [
      "Clive: Unfortunately, We do not offer on-campus housing for students. However, we can provide information on off-campus housing options near the campus area.\n",
      "------------------------------------------------------------------------------------------------------------------------\n"
     ]
    },
    {
     "name": "stdout",
     "output_type": "stream",
     "text": [
      "You:  fine\n"
     ]
    },
    {
     "name": "stdout",
     "output_type": "stream",
     "text": [
      "Clive: Great! Do you have any other questions?\n",
      "------------------------------------------------------------------------------------------------------------------------\n"
     ]
    },
    {
     "name": "stdout",
     "output_type": "stream",
     "text": [
      "You:  well what about the location\n"
     ]
    },
    {
     "name": "stdout",
     "output_type": "stream",
     "text": [
      "Clive: The University of Poppleton is located at Maple Avenue, Brooklyn, New York.\n",
      "------------------------------------------------------------------------------------------------------------------------\n"
     ]
    },
    {
     "name": "stdout",
     "output_type": "stream",
     "text": [
      "You:  ssgt\n"
     ]
    },
    {
     "name": "stdout",
     "output_type": "stream",
     "text": [
      "Clive: Sorry, I do not have that information, but I can help with other questions!\n",
      "------------------------------------------------------------------------------------------------------------------------\n"
     ]
    },
    {
     "name": "stdout",
     "output_type": "stream",
     "text": [
      "You:  ejt\n"
     ]
    },
    {
     "name": "stdout",
     "output_type": "stream",
     "text": [
      "Clive: Sorry, I do not have that information, but I can help with other questions!\n",
      "------------------------------------------------------------------------------------------------------------------------\n"
     ]
    },
    {
     "name": "stdout",
     "output_type": "stream",
     "text": [
      "You:  ifhgf\n"
     ]
    },
    {
     "name": "stdout",
     "output_type": "stream",
     "text": [
      "Clive: I apologize for the confusion. Could you ask in more detail?\n",
      "------------------------------------------------------------------------------------------------------------------------\n"
     ]
    },
    {
     "name": "stdout",
     "output_type": "stream",
     "text": [
      "You:  ok\n"
     ]
    },
    {
     "name": "stdout",
     "output_type": "stream",
     "text": [
      "Clive: Great! Do you have any other questions?\n",
      "------------------------------------------------------------------------------------------------------------------------\n"
     ]
    },
    {
     "name": "stdout",
     "output_type": "stream",
     "text": [
      "You:  see you\n"
     ]
    },
    {
     "name": "stdout",
     "output_type": "stream",
     "text": [
      "Clive: Thank you for your time! Hoping to meet you again!\n",
      "\n",
      "\n",
      "|Logged into txt file successfully.|\n"
     ]
    }
   ],
   "source": [
    "import json\n",
    "import random\n",
    "\n",
    "def intro():\n",
    "    \"\"\"Prints the welcome message and introductory instructions for the chatbot system.\"\"\"\n",
    "    print(\"\\t\\t\\t\\tWelcome to the chatbot system of the University of Poppleton.\")\n",
    "    print(\"\\t\\t\\tI am your chatbot agent to help you with any questions related to the university.\")\n",
    "    print(\"\\t\\t\\t\\t\\t\\t\\tlet’s get started!\")\n",
    "\n",
    "\n",
    "def load_json_file(file):\n",
    "    \"\"\"Loads the chatbot responses and configurations from the specified JSON file.\"\"\"\n",
    "    with open(file, \"r\") as json_file:\n",
    "        print(\"\\n\\n|JSON File loaded successfully.|\")\n",
    "        data = json.load(json_file)\n",
    "        return data\n",
    "    \n",
    "\n",
    "def random_agent_names(data):\n",
    "    \"\"\"Selects and returns a random agent name from the list in the data.\"\"\"\n",
    "    agent_names = data[\"agent_names\"]\n",
    "    return random.choice(agent_names)\n",
    "\n",
    "\n",
    "def print_agent_name(agent_name):\n",
    "    \"\"\"Prints a greeting message introducing the chatbot agent to the user.\"\"\"\n",
    "    print(f\"\\n\\nHello, I am your agent {agent_name}. Nice to meet you!\")\n",
    "    print()\n",
    "    print(f\"{agent_name}: How can I help you today?\")\n",
    "    print(\"-----------------------------------\")\n",
    "\n",
    "\n",
    "def user_input():\n",
    "    \"\"\"Prompts the user for input and returns it in lowercase.\"\"\"\n",
    "    user_response = input(\"You: \")\n",
    "    user_response = user_response.lower()\n",
    "    return user_response\n",
    "\n",
    "\n",
    "def random_responses(data):\n",
    "    \"\"\"Selects and returns a random response from the list of random responses in the data.\"\"\"\n",
    "    random_response = data[\"random_responses\"]\n",
    "    return random.choice(random_response) \n",
    "\n",
    "\n",
    "def response_from_bot(user_input_data, data):\n",
    "    \"\"\"Returns a bot response based on the user's input by checking for matching keywords.\"\"\"\n",
    "    for response in data[\"bot_responses\"]:\n",
    "        for keyword in response[\"user_input\"]:\n",
    "            if keyword in user_input_data:\n",
    "                return response[\"bot_response\"]\n",
    "\n",
    "    return random_responses(data)\n",
    "\n",
    "\n",
    "def log_responses(user_query, bot_answer, file_name):\n",
    "    \"\"\"Logs the user's question and the bot's response to a text file.\"\"\"\n",
    "    with open(file_name, \"a\") as log_file:\n",
    "        log_file.write(f\"user question: {user_query}\\n\")\n",
    "        log_file.write(f\"bot response: {bot_answer}\\n\")\n",
    "\n",
    "\n",
    "def conversation(data, agent_name, file_name):\n",
    "    \"\"\"Handles the conversation flow between the user and the bot, including logging responses.\"\"\"\n",
    "    boolean_value = True\n",
    "    while boolean_value:\n",
    "        user_question = user_input()  \n",
    "        if user_question in data[\"exit_commands\"]:  \n",
    "            goodbye_response = f\"{agent_name}: Thank you for your time! Hoping to meet you again!\"\n",
    "            print(goodbye_response)\n",
    "            log_responses(user_question, goodbye_response, file_name)\n",
    "            boolean_value = False  \n",
    "        else:\n",
    "            bot_response = response_from_bot(user_question, data) \n",
    "            print(f\"{agent_name}: {bot_response}\")\n",
    "            print(\"------------------------------------------------------------------------------------------------------------------------\")\n",
    "            log_responses(user_question, bot_response, file_name)\n",
    "    print(\"\\n\\n|Logged into txt file successfully.|\")\n",
    "\n",
    "\n",
    "def call_functions():\n",
    "    \"\"\"Starts the chatbot system by calling the necessary functions for loading data and initiating the conversation.\"\"\"\n",
    "    intro()\n",
    "\n",
    "    json_file_name = \"chatbot_responses.json\"\n",
    "    json_data = load_json_file(json_file_name)\n",
    "\n",
    "    bot_name = random_agent_names(json_data)\n",
    "    \n",
    "    print_agent_name(bot_name)\n",
    "\n",
    "    log_file_name = \"log_responses.txt\"\n",
    "    conversation(json_data, bot_name, log_file_name)\n",
    "\n",
    "call_functions()\n",
    "\n"
   ]
  },
  {
   "cell_type": "code",
   "execution_count": null,
   "id": "e6d13370-6f1a-45b2-8815-dabfa0bf95e3",
   "metadata": {},
   "outputs": [],
   "source": []
  },
  {
   "cell_type": "code",
   "execution_count": null,
   "id": "f7c400c3-7348-468f-804d-58c593026f95",
   "metadata": {},
   "outputs": [],
   "source": []
  },
  {
   "cell_type": "code",
   "execution_count": null,
   "id": "5008bede-13ab-4b24-96e6-d97568e14c70",
   "metadata": {},
   "outputs": [],
   "source": []
  },
  {
   "cell_type": "code",
   "execution_count": null,
   "id": "e4fe1a77-f638-411e-a118-15b2201b45ee",
   "metadata": {},
   "outputs": [],
   "source": []
  },
  {
   "cell_type": "code",
   "execution_count": null,
   "id": "95ac8e74-5d94-4ba4-89ad-9974df513b9d",
   "metadata": {},
   "outputs": [],
   "source": []
  },
  {
   "cell_type": "code",
   "execution_count": null,
   "id": "2846d593-f0ef-46ef-afd1-bb4b08a5bdd4",
   "metadata": {},
   "outputs": [],
   "source": []
  },
  {
   "cell_type": "code",
   "execution_count": null,
   "id": "15be8c25-a75c-49ac-bf48-b39b8ecdcc9a",
   "metadata": {},
   "outputs": [],
   "source": []
  },
  {
   "cell_type": "code",
   "execution_count": null,
   "id": "8bb29df8-55ad-43f7-abf4-ef5e9fbc26ba",
   "metadata": {},
   "outputs": [],
   "source": []
  },
  {
   "cell_type": "code",
   "execution_count": null,
   "id": "cfa575ca-873c-44aa-8770-3774dffadfff",
   "metadata": {},
   "outputs": [],
   "source": []
  },
  {
   "cell_type": "code",
   "execution_count": null,
   "id": "e7d421b4-0928-4d02-8a10-468d2f435023",
   "metadata": {},
   "outputs": [],
   "source": []
  },
  {
   "cell_type": "code",
   "execution_count": null,
   "id": "b4dac76e-4864-4005-95be-76acf38d9137",
   "metadata": {},
   "outputs": [],
   "source": []
  },
  {
   "cell_type": "code",
   "execution_count": null,
   "id": "5b4b62bd-9ea4-4e9a-96b4-d2724386364a",
   "metadata": {},
   "outputs": [],
   "source": []
  },
  {
   "cell_type": "code",
   "execution_count": null,
   "id": "e2b9290e-f51b-4b02-9691-63e9e1bd2068",
   "metadata": {},
   "outputs": [],
   "source": []
  },
  {
   "cell_type": "code",
   "execution_count": 12,
   "id": "149f9ab6-9154-4105-92a7-f33bd7da2254",
   "metadata": {},
   "outputs": [
    {
     "name": "stdout",
     "output_type": "stream",
     "text": [
      "Loaded chatbot_responses.json sucessfully\n",
      "{'agent_names': ['Jack Smith', 'Clive Jacobs', 'Callie Brooks', 'Marvin Dolton', 'Vince Robertson'], 'bot_responses': [{'user_input': ['hi', 'hello', 'hey', 'howdy', 'good morning', 'good evening', 'nice', 'to', 'meet', 'you'], 'bot_response': 'Hey! Iâ€™m here to help. What can I assist you with today?'}, {'user_input': ['bye', 'good bye', 'see you'], 'bot_response': 'Thanks for giving your time! Have a great day!'}, {'user_input': ['location', 'campus', 'where', 'is', 'the'], 'bot_response': 'The University of Poppleton is located at Maple Avenue, Brooklyn, New York.'}, {'user_input': ['courses', 'programs'], 'bot_response': 'We offer a variety of programs in Computer Science, Business Administration, Fashion Design, and Engineering.'}, {'user_input': ['admission', 'requirements', 'criteria', 'eligibility', 'factors'], 'bot_response': 'Admission requirements vary by program. For Computer Science, a minimum of 55% in relevant subjects in High School. For Business Administration, a minimum GPA of 2.50 GPA is required. For Fashion Design, a minimum of 2.00 GPA is required. For Engineering, a minimum of 3.00 GPA is required with a strong foundation in mathematics.'}, {'user_input': ['scholarships', 'scholarship', 'aid'], 'bot_response': \"We offer a range of scholarship opportunities for newly admitted students, applicable for the first semester. Scholarships are awarded based on high school GPA. For students with a GPA of 4.00 or higher, a 100% scholarship is granted. For students with a GPA of 3.90 to 3.99, a 75% scholarship is awarded. A GPA between 3.75 and 3.89 will be granted a 50% scholarship. After the first semester, scholarship criteria will be based on the student's performance in the semester result.\"}, {'user_input': ['facilities', 'campus', 'gym', 'library'], 'bot_response': 'Our campus offers essential facilities, including a gym, a well-equipped library, fully operated computer labs, fully equipped science laboratories, and spacious basketball and football courts.'}, {'user_input': ['housing', 'accommodation', 'stay'], 'bot_response': 'Unfortunately, We do not offer on-campus housing for students. However, we can provide information on off-campus housing options near the campus area.'}, {'user_input': ['online', 'courses', 'learning', 'programs'], 'bot_response': 'We offer online learning programs in Business Administration, focusing on Investment and Accounting only.'}, {'user_input': ['part-time', 'jobs', 'internships'], 'bot_response': 'There are several part-time job opportunities on and off-campus, and we also offer internship placements in fields related to student interests.'}], 'random_responses': ['Sorry, I did not undestand your question. Could you please clarify?', 'I am not sure about that question right now. You can contact the admission department for further information.', \"Sorry, I don't have that information, but I can help with other questions!\", \"I'm not sure I understand, but I'll try to find out for you.\", 'I apologize for the confusion. Could you ask in more detail?'], 'exit_commands': ['bye', 'quit', 'exit', 'goodbye', 'see you', 'byebye']}\n"
     ]
    }
   ],
   "source": [
    "import json \n",
    "\n",
    "def load_json(file):\n",
    "    with open(file) as main_file:\n",
    "        print(f\"Loaded {file} sucessfully\")\n",
    "        return json.load(main_file)\n",
    "\n",
    "responses_data = load_json(\"chatbot_responses.json\")\n",
    "print(responses_data)"
   ]
  },
  {
   "cell_type": "code",
   "execution_count": null,
   "id": "a6ce44bc-027f-4c2a-994b-549be5db9e88",
   "metadata": {},
   "outputs": [],
   "source": []
  }
 ],
 "metadata": {
  "kernelspec": {
   "display_name": "Python 3 (ipykernel)",
   "language": "python",
   "name": "python3"
  },
  "language_info": {
   "codemirror_mode": {
    "name": "ipython",
    "version": 3
   },
   "file_extension": ".py",
   "mimetype": "text/x-python",
   "name": "python",
   "nbconvert_exporter": "python",
   "pygments_lexer": "ipython3",
   "version": "3.12.7"
  }
 },
 "nbformat": 4,
 "nbformat_minor": 5
}
