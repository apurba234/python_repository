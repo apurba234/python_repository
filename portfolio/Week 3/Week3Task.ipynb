{
 "cells": [
  {
   "cell_type": "markdown",
   "id": "aab5d10b-c0c8-4d2d-bf9a-0a074d0230fe",
   "metadata": {},
   "source": [
    "1. Modify your greeting program so that if the user does not enter a name (i.e. they\n",
    "just press enter), the program responds \"Hello, Stranger!\". Otherwise it should print\n",
    "a greeting with their name as before."
   ]
  },
  {
   "cell_type": "code",
   "execution_count": 4,
   "id": "4d7c36fb-febd-448a-8b65-0e6838846fb1",
   "metadata": {},
   "outputs": [
    {
     "name": "stdout",
     "output_type": "stream",
     "text": [
      "Hello, what is your name?  \n"
     ]
    },
    {
     "name": "stdout",
     "output_type": "stream",
     "text": [
      "Hello, Stranger!\n"
     ]
    }
   ],
   "source": [
    "name = input(\"Hello, what is your name? \")\n",
    "\n",
    "if name == \"\":\n",
    "    print(\"Hello, Stranger!\")\n",
    "else:\n",
    "    print(f\"Hello, {name}. Good to meet you!\")\n"
   ]
  },
  {
   "cell_type": "markdown",
   "id": "d50c4485-5ac9-4e80-846a-3a5c1f71a73d",
   "metadata": {},
   "source": [
    "2. Write a program that simulates the way in which a user might choose a password.\n",
    "The program should prompt for a new password, and then prompt again. If the two\n",
    "passwords entered are the same the program should say \"Password Set\" or\n",
    "similar, otherwise it should report an error."
   ]
  },
  {
   "cell_type": "code",
   "execution_count": 12,
   "id": "310e19ef-bb91-4031-a808-0cb5bf66bf72",
   "metadata": {},
   "outputs": [
    {
     "name": "stdout",
     "output_type": "stream",
     "text": [
      "Enter the password:  jack\n",
      "Enter the password again:  jacll\n"
     ]
    },
    {
     "name": "stdout",
     "output_type": "stream",
     "text": [
      "Error matching password. Please try again. \n"
     ]
    }
   ],
   "source": [
    "def password():\n",
    "    enter_password = input(\"Enter the password: \")\n",
    "    reenter_password = input(\"Enter the password again: \")\n",
    "    return enter_password, reenter_password\n",
    "\n",
    "def check_password(enter_password, reenter_password):\n",
    "    if enter_password == reenter_password:\n",
    "        print(\"Password Set\")\n",
    "    else:\n",
    "        print(\"Error matching password. Please try again. \")\n",
    "\n",
    "password1, password2 = password()\n",
    "check_password(password1, password2)"
   ]
  },
  {
   "cell_type": "markdown",
   "id": "1068015b-fd08-4f41-b442-37eff1759d90",
   "metadata": {},
   "source": [
    "3. Modify your previous program so that the password must be between 8 and 12\n",
    "characters (inclusive) long."
   ]
  },
  {
   "cell_type": "code",
   "execution_count": 24,
   "id": "f7ce3fdd-7b42-46d3-8ce7-eba851e76246",
   "metadata": {},
   "outputs": [
    {
     "name": "stdout",
     "output_type": "stream",
     "text": [
      "Enter the password:  35454545\n",
      "Enter the password again:  24\n"
     ]
    },
    {
     "name": "stdout",
     "output_type": "stream",
     "text": [
      "Error matching password. Please try again.\n"
     ]
    }
   ],
   "source": [
    "def password():\n",
    "    enter_password = input(\"Enter the password: \")\n",
    "    return enter_password\n",
    "\n",
    "def check_password(enter_password):\n",
    "    if len(enter_password) >= 8 and len(enter_password) <= 12:\n",
    "        reenter_password = input(\"Enter the password again: \")\n",
    "        if enter_password == reenter_password:\n",
    "            print(\"Password Set\")\n",
    "        else:\n",
    "            print(\"Error matching password. Please try again.\")\n",
    "    else:\n",
    "        print(\"Password length must be between 8 and 12 characters.\")\n",
    "\n",
    "password1 = password()\n",
    "check_password(password1)\n"
   ]
  },
  {
   "cell_type": "markdown",
   "id": "0e620cf0-7868-4923-af6a-f30818e1557d",
   "metadata": {},
   "source": [
    "3. Modify your program again so that the chosen password cannot be one of a list of\n",
    "common passwords, defined thus:\n",
    "BAD_PASSWORDS = ['password', 'letmein', 'sesame', 'hello', 'justinbieber']"
   ]
  },
  {
   "cell_type": "code",
   "execution_count": 34,
   "id": "422e5503-e7a6-4f48-abf5-eb84eaadae24",
   "metadata": {},
   "outputs": [
    {
     "name": "stdout",
     "output_type": "stream",
     "text": [
      "Enter the password:  hello\n"
     ]
    },
    {
     "name": "stdout",
     "output_type": "stream",
     "text": [
      "Password length must be between 8 and 12 characters.\n"
     ]
    }
   ],
   "source": [
    "BAD_PASSWORDS = ['password', 'letmein', 'sesame', 'hello', 'justinbieber']\n",
    "\n",
    "def password():\n",
    "    enter_password = input(\"Enter the password: \")\n",
    "    return enter_password\n",
    "\n",
    "def check_password(enter_password):\n",
    "    if len(enter_password) >= 8 and len(enter_password) <= 12:\n",
    "        \n",
    "        if enter_password in BAD_PASSWORDS:\n",
    "            print(\"You cannot use a common password.\")\n",
    "        else:\n",
    "            reenter_password = input(\"Enter the password again: \")\n",
    "            \n",
    "            if enter_password == reenter_password:\n",
    "                print(\"Password Set\")\n",
    "            else:\n",
    "                print(\"Error matching password. Please try again.\")\n",
    "    else:\n",
    "        print(\"Password length must be between 8 and 12 characters.\")\n",
    "\n",
    "password1 = password()\n",
    "check_password(password1)\n"
   ]
  },
  {
   "cell_type": "markdown",
   "id": "5370e3ab-2366-4e41-bb2a-2128c2ab4d92",
   "metadata": {},
   "source": [
    "4. Modify your program a final time so that it executes until the user successfully\n",
    "chooses a password. That is, if the password chosen fails any of the checks, the\n",
    "program should return to asking for the password the first time."
   ]
  },
  {
   "cell_type": "code",
   "execution_count": 2,
   "id": "9e113463-d92f-4dd5-9fae-05b87350b7e0",
   "metadata": {},
   "outputs": [
    {
     "name": "stdout",
     "output_type": "stream",
     "text": [
      "Enter the password:  password\n"
     ]
    },
    {
     "name": "stdout",
     "output_type": "stream",
     "text": [
      "This is a common password. Enter a strong password.\n"
     ]
    },
    {
     "name": "stdout",
     "output_type": "stream",
     "text": [
      "Enter a new password:  hello\n"
     ]
    },
    {
     "name": "stdout",
     "output_type": "stream",
     "text": [
      "Error: Password length must be between 8 and 12 characters.\n"
     ]
    },
    {
     "name": "stdout",
     "output_type": "stream",
     "text": [
      "Enter a valid password:  aerrh\n"
     ]
    },
    {
     "name": "stdout",
     "output_type": "stream",
     "text": [
      "Error: Password length must be between 8 and 12 characters.\n"
     ]
    },
    {
     "name": "stdout",
     "output_type": "stream",
     "text": [
      "Enter a valid password:  newyorkcity\n",
      "Enter the password again:  newyorkcity\n"
     ]
    },
    {
     "name": "stdout",
     "output_type": "stream",
     "text": [
      "Password Set\n"
     ]
    }
   ],
   "source": [
    "BAD_PASSWORDS = ['password', 'letmein', 'sesame', 'hello', 'justinbieber']\n",
    "\n",
    "def password():\n",
    "    enter_password = input(\"Enter the password: \")\n",
    "    return enter_password\n",
    "\n",
    "def check_password(enter_password):\n",
    "    while True:\n",
    "        if len(enter_password) >= 8 and len(enter_password) <= 12:\n",
    "            \n",
    "            if enter_password in BAD_PASSWORDS:\n",
    "                print(\"This is a common password. Enter a strong password.\")\n",
    "                enter_password = input(\"Enter a new password: \")  \n",
    "            else:\n",
    "                reenter_password = input(\"Enter the password again: \")\n",
    "                if enter_password == reenter_password:\n",
    "                    print(\"Password Set\")\n",
    "                    break  \n",
    "                else:\n",
    "                    print(\"Error matching password. Please try again.\")\n",
    "                    enter_password = input(\"Enter the password: \")  \n",
    "        else:\n",
    "            print(\"Error: Password length must be between 8 and 12 characters.\")\n",
    "            enter_password = input(\"Enter a valid password: \")  \n",
    "\n",
    "password1 = password()\n",
    "check_password(password1)\n"
   ]
  },
  {
   "cell_type": "markdown",
   "id": "d0ed9651-869f-4632-b580-731c37d6412f",
   "metadata": {},
   "source": [
    "5. Write a program that displays the \"Seven Times Table\". That is, the result of\n",
    "multiplying 7 by every number from 0 to 12 inclusive. The output might start:\n",
    "0 x 7 = 0\n",
    "1 x 7 = 7\n",
    "2 x 7 = 14\n",
    "and so on."
   ]
  },
  {
   "cell_type": "code",
   "execution_count": 51,
   "id": "56291ab7-1ca2-4d14-802c-24f4ff20e2d5",
   "metadata": {},
   "outputs": [
    {
     "name": "stdout",
     "output_type": "stream",
     "text": [
      "0 x 7 = 0\n",
      "1 x 7 = 7\n",
      "2 x 7 = 14\n",
      "3 x 7 = 21\n",
      "4 x 7 = 28\n",
      "5 x 7 = 35\n",
      "6 x 7 = 42\n",
      "7 x 7 = 49\n",
      "8 x 7 = 56\n",
      "9 x 7 = 63\n",
      "10 x 7 = 70\n"
     ]
    }
   ],
   "source": [
    "def multiplication():\n",
    "    num1 = 0\n",
    "    while num1 <= 10:\n",
    "        for num2 in range(7, 8):\n",
    "            print(num1, \"x\", num2, \"=\", num1 * num2)\n",
    "        num1 += 1\n",
    "\n",
    "multiplication()"
   ]
  },
  {
   "cell_type": "markdown",
   "id": "b8c8c9c7-654e-439c-9c4b-387203f42025",
   "metadata": {},
   "source": [
    "6. Modify your \"Times Table\" program so that the user enters the number of the table\n",
    "they require. This number should be between 0 and 12 inclusive."
   ]
  },
  {
   "cell_type": "code",
   "execution_count": 32,
   "id": "cbe5ce45-7789-43f6-9d9a-b1e1eb9153a1",
   "metadata": {},
   "outputs": [
    {
     "name": "stdout",
     "output_type": "stream",
     "text": [
      "Enter the number for the table:  44\n"
     ]
    },
    {
     "name": "stdout",
     "output_type": "stream",
     "text": [
      "Please enter a number between 0 and 12.\n"
     ]
    },
    {
     "name": "stdout",
     "output_type": "stream",
     "text": [
      "Enter the number for the table:  3\n"
     ]
    },
    {
     "name": "stdout",
     "output_type": "stream",
     "text": [
      "0 x 3 = 0\n",
      "1 x 3 = 3\n",
      "2 x 3 = 6\n",
      "3 x 3 = 9\n",
      "4 x 3 = 12\n",
      "5 x 3 = 15\n",
      "6 x 3 = 18\n",
      "7 x 3 = 21\n",
      "8 x 3 = 24\n",
      "9 x 3 = 27\n",
      "10 x 3 = 30\n",
      "11 x 3 = 33\n",
      "12 x 3 = 36\n"
     ]
    }
   ],
   "source": [
    "def multiplication():\n",
    "    while True:\n",
    "        num2 = int(input(\"Enter the number for the table: \"))\n",
    "        \n",
    "        if 0 <= num2 <= 12:\n",
    "            num1 = 0\n",
    "            while num1 <= 12:\n",
    "                print(num1, \"x\", num2, \"=\", num1 * num2)\n",
    "                num1 += 1\n",
    "            break  \n",
    "        else:\n",
    "            print(\"Please enter a number between 0 and 12.\")\n",
    "\n",
    "multiplication()\n"
   ]
  },
  {
   "cell_type": "markdown",
   "id": "5f6aed99-569d-4d41-9f11-fffb615bdd24",
   "metadata": {},
   "source": [
    "7. Modify the \"Times Table\" again so that the user still enters the number of the table,\n",
    "but if this number is negative the table is printed backwards. So entering \"-7\"\n",
    "would produce the Seven Times Table starting at \"12 times\" down to \"0 times\"."
   ]
  },
  {
   "cell_type": "code",
   "execution_count": 9,
   "id": "4bc43645-3a83-4049-be42-49a1f40e3bbc",
   "metadata": {},
   "outputs": [
    {
     "name": "stdin",
     "output_type": "stream",
     "text": [
      "Enter the number for the table:  -3\n"
     ]
    },
    {
     "name": "stdout",
     "output_type": "stream",
     "text": [
      "12 x -3 = -36\n",
      "11 x -3 = -33\n",
      "10 x -3 = -30\n",
      "9 x -3 = -27\n",
      "8 x -3 = -24\n",
      "7 x -3 = -21\n",
      "6 x -3 = -18\n",
      "5 x -3 = -15\n",
      "4 x -3 = -12\n",
      "3 x -3 = -9\n",
      "2 x -3 = -6\n",
      "1 x -3 = -3\n",
      "0 x -3 = 0\n"
     ]
    }
   ],
   "source": [
    "def multiplication():\n",
    "    while True:\n",
    "        num2 = int(input(\"Enter the number for the table: \"))\n",
    "\n",
    "        if -12 <= num2 <= 12:\n",
    "            \n",
    "            if num2 > 0:\n",
    "                num1 = 0\n",
    "                while num1 <= 12:\n",
    "                    print(num1, \"x\", num2, \"=\", num1 * num2)\n",
    "                    num1 += 1\n",
    "            else:\n",
    "                num1 = 12\n",
    "                while num1 >= 0:\n",
    "                    print(num1, \"x\", num2, \"=\", num1 * num2)\n",
    "                    num1 -= 1\n",
    "            break \n",
    "            \n",
    "        else:\n",
    "            print(\"Please enter a number between -12 and 12.\")\n",
    "\n",
    "multiplication()\n"
   ]
  },
  {
   "cell_type": "code",
   "execution_count": null,
   "id": "a0696854-724d-40c4-8e26-7141feccd412",
   "metadata": {},
   "outputs": [],
   "source": []
  }
 ],
 "metadata": {
  "kernelspec": {
   "display_name": "Python 3 (ipykernel)",
   "language": "python",
   "name": "python3"
  },
  "language_info": {
   "codemirror_mode": {
    "name": "ipython",
    "version": 3
   },
   "file_extension": ".py",
   "mimetype": "text/x-python",
   "name": "python",
   "nbconvert_exporter": "python",
   "pygments_lexer": "ipython3",
   "version": "3.12.7"
  }
 },
 "nbformat": 4,
 "nbformat_minor": 5
}
