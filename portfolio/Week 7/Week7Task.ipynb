{
 "cells": [
  {
   "cell_type": "markdown",
   "id": "f0a0e545-4b04-47a5-96e0-a7164fb00610",
   "metadata": {},
   "source": [
    "1.Write and test a function that takes a string as a parameter and returns a sorted list\n",
    "of all the unique letters used in the string. So, if the string is cheese, the list\n",
    "returned should be ['c', 'e', 'h', 's'].\n"
   ]
  },
  {
   "cell_type": "code",
   "execution_count": 7,
   "id": "436aa687-3bbe-4e65-a0d2-d3ae420040aa",
   "metadata": {},
   "outputs": [
    {
     "name": "stdin",
     "output_type": "stream",
     "text": [
      "Enter a string:  aiertgag\n"
     ]
    },
    {
     "name": "stdout",
     "output_type": "stream",
     "text": [
      "The sorted list is ['a', 'e', 'g', 'i', 'r', 't']\n"
     ]
    }
   ],
   "source": [
    "def get_input(string): \n",
    "    character_list = []\n",
    "    for char in string:\n",
    "        if char not in character_list:\n",
    "            character_list.append(char)\n",
    "    \n",
    "    character_list.sort()\n",
    "    \n",
    "    return character_list\n",
    "\n",
    "def output():\n",
    "    input_value = input(\"Enter a string: \")\n",
    "    final_list = unique_letters(input_value)\n",
    "    print(f\"The sorted list is {final_list}\")\n",
    "\n",
    "output()\n",
    "\n"
   ]
  },
  {
   "cell_type": "markdown",
   "id": "68c1744b-85bf-4c76-a21a-2435c542642c",
   "metadata": {},
   "source": [
    "2.Write and test three functions that each take two words (strings) as parameters and\n",
    "return sorted lists (as defined above) representing respectively:\n",
    "Letters that appear in at least one of the two words.\n",
    "Letters that appear in both words.\n",
    "Letters that appear in either word, but not in both.\n",
    "Hint: These could all be done programmatically, but consider carefully what topic we\n",
    "have been discussing this week! Each function can be exactly one line.\n"
   ]
  },
  {
   "cell_type": "code",
   "execution_count": 24,
   "id": "a761a35e-0c3a-485b-b7df-ba5b0a08034c",
   "metadata": {},
   "outputs": [
    {
     "name": "stdin",
     "output_type": "stream",
     "text": [
      "Enter the first word:  apurba\n",
      "Enter the second word:  mishra\n"
     ]
    },
    {
     "name": "stdout",
     "output_type": "stream",
     "text": [
      "Letters in either word: ['a', 'b', 'h', 'i', 'm', 'p', 'r', 's', 'u']\n",
      "Letters in both words: ['a', 'r']\n",
      "Letters in either, but not in both: ['b', 'h', 'i', 'm', 'p', 's', 'u']\n"
     ]
    }
   ],
   "source": [
    "def letters_in_either(word1, word2):\n",
    "    letters_set = set(word1) | set(word2)\n",
    "    sorted_letters_list = sorted(list(letters_set))\n",
    "    return sorted_letters_list\n",
    "\n",
    "def letters_in_both(word1, word2):\n",
    "    letters_set = set(word1) & set(word2)\n",
    "    sorted_letters_list = sorted(list(letters_set))\n",
    "    return sorted_letters_list\n",
    "\n",
    "def letters_in_either_not_both(word1, word2):\n",
    "    letters_set = set(word1) ^ set(word2)\n",
    "    sorted_letters_list = sorted(list(letters_set))\n",
    "    return sorted_letters_list\n",
    "\n",
    "def user_input():\n",
    "    word1 = input(\"Enter the first word: \")\n",
    "    word2 = input(\"Enter the second word: \")\n",
    "    return word1, word2\n",
    "\n",
    "def function_call():\n",
    "    word1, word2 = user_input()\n",
    "    result_either = letters_in_either(word1, word2)\n",
    "    result_both = letters_in_both(word1, word2)\n",
    "    result_either_not_both = letters_in_either_not_both(word1, word2)\n",
    "    return result_either, result_both, result_either_not_both\n",
    "\n",
    "def print_output():\n",
    "    result_either, result_both, result_either_not_both = function_call()\n",
    "    print(f\"Letters in either word: {result_either}\")\n",
    "    print(f\"Letters in both words: {result_both}\")\n",
    "    print(f\"Letters in either, but not in both: {result_either_not_both}\")\n",
    "\n",
    "print_output()\n"
   ]
  },
  {
   "cell_type": "markdown",
   "id": "6f3617df-0e3e-4a70-9d3c-15001598f987",
   "metadata": {},
   "source": [
    "3. Write a program that manages a list of countries and their capital cities. It should\n",
    "prompt the user to enter the name of a country. If the program already \"knows\"\n",
    "the name of the capital city, it should display it. Otherwise it should ask the user to\n",
    "enter it. This should carry on until the user terminates the program (how this\n",
    "happens is up to you).\n",
    "Note: A good solution to this task will be able to cope with the country being entered\n",
    "variously as, for example, \"Wales\", \"wales\", \"WALES\" and so on."
   ]
  },
  {
   "cell_type": "code",
   "execution_count": 1,
   "id": "92cbee21-48bb-4c11-8d0f-4cac8504e9d0",
   "metadata": {},
   "outputs": [
    {
     "name": "stdin",
     "output_type": "stream",
     "text": [
      "Enter a country (or 'q' to stop):  China\n",
      "Enter the capital of china to update the list. Bejing\n"
     ]
    },
    {
     "name": "stdout",
     "output_type": "stream",
     "text": [
      "Data updated. The capital of china is Bejing\n"
     ]
    },
    {
     "name": "stdin",
     "output_type": "stream",
     "text": [
      "Enter a country (or 'q' to stop):  Srilanka\n",
      "Enter the capital of srilanka to update the list. Colombo\n"
     ]
    },
    {
     "name": "stdout",
     "output_type": "stream",
     "text": [
      "Data updated. The capital of srilanka is Colombo\n"
     ]
    },
    {
     "name": "stdin",
     "output_type": "stream",
     "text": [
      "Enter a country (or 'q' to stop):  China\n"
     ]
    },
    {
     "name": "stdout",
     "output_type": "stream",
     "text": [
      "The capital of china is Bejing\n"
     ]
    },
    {
     "name": "stdin",
     "output_type": "stream",
     "text": [
      "Enter a country (or 'q' to stop):  q\n"
     ]
    },
    {
     "name": "stdout",
     "output_type": "stream",
     "text": [
      "Exited the program\n"
     ]
    }
   ],
   "source": [
    "def manage_countries():\n",
    "    countries = {}  \n",
    "    boolean_variable = True  \n",
    "\n",
    "    while boolean_variable:\n",
    "        country = input(\"Enter a country (or 'q' to stop): \")\n",
    "        \n",
    "        country = country.lower()\n",
    "        \n",
    "        if country == 'q':\n",
    "            boolean_variable = False \n",
    "            print(\"Exited the program\")\n",
    "        elif country in countries:\n",
    "            print(f\"The capital of {country} is {countries[country]}\")\n",
    "        else:\n",
    "            capital = input(f\"Enter the capital of {country} to update the list.\")\n",
    "            countries[country] = capital\n",
    "            print(f\"Data updated. The capital of {country} is {countries[country]}\")\n",
    "\n",
    "manage_countries()\n"
   ]
  },
  {
   "cell_type": "markdown",
   "id": "d25ce6e2-c3de-4aab-b6d6-61ffd78431da",
   "metadata": {},
   "source": [
    "4. One approach to analysing some encrypted data where a substitution is suspected\n",
    "is frequency analysis. A count of the dierent symbols in the message can be used\n",
    "to identify the language used, and sometimes some of the letters. In English, the\n",
    "most common letter is \"e\", and so the symbol representing \"e\" should appear most\n",
    "in the encrypted text.\n",
    "Write a program that processes a string representing a message and reports the six\n",
    "most common letters, along with the number of times they appear. Case should\n",
    "not matter, so \"E\" and \"e\" are considered the same.\n",
    "Hint: There are many ways to do this. It is obviously a dictionary, but we will want\n",
    "zero counts, so some initialisation is needed. Also, sorting dictionaries is tricky, so\n",
    "best to ignore that initially, and then check the usual resources for the runes"
   ]
  },
  {
   "cell_type": "code",
   "execution_count": 16,
   "id": "ca274251-5ab7-42b0-ade8-53a4acd4b5a6",
   "metadata": {},
   "outputs": [
    {
     "name": "stdin",
     "output_type": "stream",
     "text": [
      "Enter the text you want to see the common letters and their respective counts:  new york city is called big apple \n"
     ]
    },
    {
     "name": "stdout",
     "output_type": "stream",
     "text": [
      "'e': 3\n",
      "'i': 3\n",
      "'l': 3\n",
      "'y': 2\n"
     ]
    }
   ],
   "source": [
    "from collections import Counter\n",
    "\n",
    "def frequency_analysis(message):\n",
    "    message = ''.join(ch for ch in message.lower() if ch.isalpha())\n",
    "    \n",
    "    frequency = Counter(message)\n",
    "    \n",
    "    frequent_letter = frequency.most_common(4)\n",
    "    \n",
    "    for letter, count in frequent_letter:\n",
    "        print(f\"'{letter}': {count}\")\n",
    "\n",
    "user_input = input(\"Enter the text you want to see the common letters and their respective counts: \")\n",
    "frequency_analysis(user_input)"
   ]
  }
 ],
 "metadata": {
  "kernelspec": {
   "display_name": "Python 3 (ipykernel)",
   "language": "python",
   "name": "python3"
  },
  "language_info": {
   "codemirror_mode": {
    "name": "ipython",
    "version": 3
   },
   "file_extension": ".py",
   "mimetype": "text/x-python",
   "name": "python",
   "nbconvert_exporter": "python",
   "pygments_lexer": "ipython3",
   "version": "3.12.7"
  }
 },
 "nbformat": 4,
 "nbformat_minor": 5
}
