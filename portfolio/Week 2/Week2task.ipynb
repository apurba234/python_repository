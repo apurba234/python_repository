{
 "cells": [
  {
   "cell_type": "markdown",
   "id": "66a79911-56b8-4c37-94b9-4ecc6bed8c27",
   "metadata": {},
   "source": [
    "1. Last week you wrote a program that printed out a cheery greeting including your\n",
    "   name. Take a copy of it, and modify it so that the user enters their name at the\n",
    "   keyboard, and then receives a greeting. For example:\n",
    "   Hello, what is your name? Mr Apricot\n",
    "   Hello, Mr Apricot. Good to meet you!"
   ]
  },
  {
   "cell_type": "code",
   "execution_count": 11,
   "id": "81e5ed22-4b19-48a3-ade5-a4cfc475966c",
   "metadata": {},
   "outputs": [
    {
     "name": "stdin",
     "output_type": "stream",
     "text": [
      "Hello, what is your name?  Mr Apricot\n"
     ]
    },
    {
     "name": "stdout",
     "output_type": "stream",
     "text": [
      "Hello, Mr Apricot. Good to meet you!\n"
     ]
    }
   ],
   "source": [
    "name = input(\"Hello, what is your name? \")\n",
    "print(f\"Hello, {name}. Good to meet you!\")\n"
   ]
  },
  {
   "cell_type": "markdown",
   "id": "4998d802-4a36-4f31-81f5-fe94221ce969",
   "metadata": {},
   "source": [
    "2. Write a program that prompts a user to enter a temperature in Celsius, and then\n",
    "   displays the corresponding temperature in Fahrenheit, like so:\n",
    "   Enter a temperature in Celsius: 32.5\n",
    "   32.5C is equivalent to 90.5F."
   ]
  },
  {
   "cell_type": "code",
   "execution_count": 15,
   "id": "571a47ae-383a-48bc-b740-8890766d7d72",
   "metadata": {},
   "outputs": [
    {
     "name": "stdin",
     "output_type": "stream",
     "text": [
      "Enter a temperature in celsius:  32.5\n"
     ]
    },
    {
     "name": "stdout",
     "output_type": "stream",
     "text": [
      "32.5C is equivalent to 90.5F.\n"
     ]
    }
   ],
   "source": [
    "celsius_value = float(input(\"Enter a temperature in celsius: \"))\n",
    "celsius_to_fahrenheit = (celsius_value * 9/5) + 32\n",
    "print(f\"{celsius_value}C is equivalent to {celsius_to_fahrenheit}F.\")"
   ]
  },
  {
   "cell_type": "markdown",
   "id": "87406977-51a8-485e-a551-b59fb1eb01b9",
   "metadata": {},
   "source": [
    "3. The Head of Computing at the University of Poppleton is tasked with dividing a\n",
    "group of students into lab groups. A lab group is usually 24 students, but this is\n",
    "sometimes varied to create groups of similar size. Write a program that prompts for\n",
    "the number of students and group size, and then displays how many groups will be\n",
    "needed and how many will be left over in a smaller group.\n",
    "How many students? 113\n",
    "Required group size? 22\n",
    "There will be 5 groups with 3 students left over.\n",
    "For bonus credit, see if you can fix the grammar in the output. So if there were 101\n",
    "students in groups of 20 the output would be:\n",
    "There will be 5 groups with 1 student left over."
   ]
  },
  {
   "cell_type": "code",
   "execution_count": 26,
   "id": "ffe10318-dbb6-4493-95c8-2357f303df98",
   "metadata": {},
   "outputs": [
    {
     "name": "stdin",
     "output_type": "stream",
     "text": [
      "How many students? 33\n",
      "Required group size? 44\n"
     ]
    },
    {
     "name": "stdout",
     "output_type": "stream",
     "text": [
      "There will be 0 groups with 33 left over.\n"
     ]
    }
   ],
   "source": [
    "students_no = int(input(\"How many students?\"))\n",
    "group_size = int(input(\"Required group size?\"))\n",
    "\n",
    "total_group = students_no // group_size #gives the quotient value when divided but only the whole number\n",
    "remaining_students = students_no % group_size #gives the remainder value \n",
    "\n",
    "if remaining_students == 1 : \n",
    "    print(f\"There will be {total_group} groups with 1 student left over.\")\n",
    "else: \n",
    "    print(f\"There will be {total_group} groups with {remaining_students} left over.\")          "
   ]
  },
  {
   "cell_type": "markdown",
   "id": "02d76cd2-e794-4761-83d1-76c859d28547",
   "metadata": {},
   "source": [
    "4. A kindly teacher wishes to distribute a tub of sweets between her pupils. She will\n",
    "first count the sweets and then divide them according to how many pupils attend\n",
    "that day. Write a program that will tell the teacher how many sweets to give to each\n",
    "pupil, and how many she will have left over."
   ]
  },
  {
   "cell_type": "code",
   "execution_count": 32,
   "id": "151d8438-ce06-4ba7-aa2b-de3db64123e2",
   "metadata": {},
   "outputs": [
    {
     "name": "stdin",
     "output_type": "stream",
     "text": [
      "Enter the amount of sweets:  45\n",
      "Enter the number of pupils 5\n"
     ]
    },
    {
     "name": "stdout",
     "output_type": "stream",
     "text": [
      "Each pupil will get 9 sweets.\n",
      "There will be 0 sweets left over.\n"
     ]
    }
   ],
   "source": [
    "sweets = int(input(\"Enter the amount of sweets: \"))\n",
    "pupils = int(input(\"Enter the number of pupils\"))\n",
    "\n",
    "sweets_per_pupil = sweets // pupils\n",
    "leftover_sweets = sweets % pupils\n",
    "\n",
    "print(f\"Each pupil will get {sweets_per_pupil} sweets.\")\n",
    "print(f\"There will be {leftover_sweets} sweets left over.\")"
   ]
  }
 ],
 "metadata": {
  "kernelspec": {
   "display_name": "Python 3 (ipykernel)",
   "language": "python",
   "name": "python3"
  },
  "language_info": {
   "codemirror_mode": {
    "name": "ipython",
    "version": 3
   },
   "file_extension": ".py",
   "mimetype": "text/x-python",
   "name": "python",
   "nbconvert_exporter": "python",
   "pygments_lexer": "ipython3",
   "version": "3.12.7"
  }
 },
 "nbformat": 4,
 "nbformat_minor": 5
}
