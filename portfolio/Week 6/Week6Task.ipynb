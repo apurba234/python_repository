{
 "cells": [
  {
   "cell_type": "markdown",
   "id": "b68027a2-3f69-4c36-9267-ccaa277384c8",
   "metadata": {},
   "source": [
    "1. Write a function that accepts a positive integer as a parameter and then returns a\n",
    "representation of that number in binary (base 2).\n",
    "Hint: This is in many ways a trick question. Think!"
   ]
  },
  {
   "cell_type": "code",
   "execution_count": 12,
   "id": "a2dceeb1-0942-473b-aaa0-59e1fc0c76cb",
   "metadata": {},
   "outputs": [
    {
     "name": "stdin",
     "output_type": "stream",
     "text": [
      "Enter a positive integer:  9\n"
     ]
    },
    {
     "name": "stdout",
     "output_type": "stream",
     "text": [
      "The binary representation of 9 is: 0b1001\n"
     ]
    }
   ],
   "source": [
    "def user_input():\n",
    "    num = int(input(\"Enter a positive integer: \"))\n",
    "    return num\n",
    "\n",
    "def decimal_to_binary(positive_int):\n",
    "    return bin(positive_int)\n",
    "\n",
    "def display_output(decimal_input, binary_representation):\n",
    "    print(f\"The binary representation of {decimal_input} is: {binary_representation}\")\n",
    "\n",
    "\n",
    "decimal_number = user_input()\n",
    "binary_representation = decimal_to_binary(decimal_number)\n",
    "display_output(decimal_number, binary_representation)"
   ]
  },
  {
   "cell_type": "markdown",
   "id": "c935ade5-6ef2-47e3-bcc9-e2063e25e2bf",
   "metadata": {},
   "source": [
    "2. Write and test a function that takes an integer as its parameter and returns the\n",
    "factors of that integer. (A factor is an integer which can be multiplied by another to\n",
    "yield the original)."
   ]
  },
  {
   "cell_type": "code",
   "execution_count": 22,
   "id": "b0a500cb-9fa9-41fd-a778-34c2c91a1048",
   "metadata": {},
   "outputs": [
    {
     "name": "stdin",
     "output_type": "stream",
     "text": [
      "Enter an integer to find the factor of:  6\n"
     ]
    },
    {
     "name": "stdout",
     "output_type": "stream",
     "text": [
      "The factors of 6 are: [1, 2, 3, 6]\n"
     ]
    }
   ],
   "source": [
    "def factors_of_int(num):\n",
    "    factors = []\n",
    "    for i in range(1, num + 1):\n",
    "        if num % i == 0:\n",
    "            factors.append(i)\n",
    "    return factors\n",
    "    \n",
    "number = int(input(\"Enter an integer to find the factor of: \"))\n",
    "result_factors = factors_of_int(number)\n",
    "print(f\"The factors of {number} are: {result_factors}\")"
   ]
  },
  {
   "cell_type": "markdown",
   "id": "fb0a65a2-5960-4967-8691-66d589d86e3f",
   "metadata": {},
   "source": [
    "3. Write and test a function that determines if a given integer is a prime number. A\n",
    "prime number is an integer greater than 1 that cannot be produced by multiplying\n",
    "two other integers.\n"
   ]
  },
  {
   "cell_type": "code",
   "execution_count": 4,
   "id": "b7013efc-c773-4024-8b41-7c47d539d3bb",
   "metadata": {},
   "outputs": [
    {
     "name": "stdin",
     "output_type": "stream",
     "text": [
      "Enter a number to check if it's prime:  6\n"
     ]
    },
    {
     "name": "stdout",
     "output_type": "stream",
     "text": [
      "6 is not a prime number.\n"
     ]
    }
   ],
   "source": [
    "def is_prime(number):\n",
    "    if number <= 1:\n",
    "        return False  \n",
    "    for i in range(2, number):  \n",
    "        if number % i == 0:\n",
    "            return False  \n",
    "    return True  \n",
    "\n",
    "def check_prime():\n",
    "    num = int(input(\"Enter a number to check if it's prime: \"))\n",
    "    \n",
    "    if is_prime(num):\n",
    "        print(f\"{num} is a prime number.\")\n",
    "    else:\n",
    "        print(f\"{num} is not a prime number.\")\n",
    "\n",
    "\n",
    "check_prime()\n"
   ]
  },
  {
   "cell_type": "markdown",
   "id": "d0f8a6fd-b287-44ec-a7ae-08fd2b9ccc0e",
   "metadata": {},
   "source": [
    "4. Computers are commonly used in encryption. A very simple form of encryption\n",
    "(more accurately \"obfuscation\") would be to remove the spaces from a message\n",
    "and reverse the resulting string. Write, and test, a function that takes a string\n",
    "containing a message and \"encrypts\" it in this way.\n"
   ]
  },
  {
   "cell_type": "code",
   "execution_count": 12,
   "id": "c7a05176-658d-4656-9d31-99d5e7fc58d9",
   "metadata": {},
   "outputs": [
    {
     "name": "stdin",
     "output_type": "stream",
     "text": [
      "Enter a message to encrypt:  apurba mishra new york\n"
     ]
    },
    {
     "name": "stdout",
     "output_type": "stream",
     "text": [
      "Encrypted message: kroywenarhsimabrupa\n"
     ]
    }
   ],
   "source": [
    "def encrypt_message(message):\n",
    "    no_spaces = \"\"\n",
    "    for char in message:\n",
    "        if char != \" \":\n",
    "            no_spaces += char\n",
    "\n",
    "    reversed_message = no_spaces[::-1]\n",
    "    return reversed_message\n",
    "\n",
    "message = input(\"Enter a message to encrypt: \")\n",
    "encrypted = encrypt_message(message)\n",
    "print(\"Encrypted message:\", encrypted)\n"
   ]
  },
  {
   "cell_type": "markdown",
   "id": "352f9d06-c432-446a-a22e-f1fff6ecf3df",
   "metadata": {},
   "source": [
    "5. Another way to hide a message is to include the letters that make it up within\n",
    "seemingly random text. The letters of the message might be every fih character,\n",
    "for example. Write and test a function that does such encryption. It should\n",
    "randomly generate an interval (between 2 and 20), space the message out\n",
    "accordingly, and should fill the gaps with random letters. The function should\n",
    "return the encrypted message and the interval used.\n",
    "For example, if the message is \"send cheese\", the random interval is 2, and for\n",
    "clarity the random letters are not random:\n",
    "send cheese\n",
    "s e n d c h e e s e\n",
    "sxyexynxydxy cxyhxyexyexysxye\n"
   ]
  },
  {
   "cell_type": "code",
   "execution_count": 16,
   "id": "071ce8ca-e355-49b0-bd61-e8fc81ade1e6",
   "metadata": {},
   "outputs": [
    {
     "name": "stdin",
     "output_type": "stream",
     "text": [
      "Enter a message to encrypt:  apurba\n"
     ]
    },
    {
     "name": "stdout",
     "output_type": "stream",
     "text": [
      "Encrypted message: zyvvyhtywvyoohhyqvthvvwthqoyoqtztzzothhvoqooqtqzhyhqhoqhtvwhozhvzwqzhvtyqtvzvyhwqwzwhtthzothwhqqovyoythyhtwh\n",
      "Interval used: 19\n"
     ]
    }
   ],
   "source": [
    "import random\n",
    "\n",
    "def encrypt_message(message):\n",
    "    interval = random.randint(2, 20)\n",
    "\n",
    "    random_letters = ['z', 'v', 't', 'y', 'w', 'o', 'q', 'h']\n",
    "\n",
    "    encrypted_message = \"\"\n",
    "\n",
    "    for char in message:\n",
    "        for i in range(interval - 1):\n",
    "            encrypted_message += random.choice(random_letters)\n",
    "    return encrypted_message, interval\n",
    "\n",
    "message = input(\"Enter a message to encrypt: \")\n",
    "encrypted, interval = encrypt_message(message)\n",
    "print(f\"Encrypted message: {encrypted}\")\n",
    "print(f\"Interval used: {interval}\")\n"
   ]
  },
  {
   "cell_type": "markdown",
   "id": "36e9a58d-67e3-4412-ad3d-e98c834dc992",
   "metadata": {},
   "source": [
    "6. Write a program that decrypts messages encoded as above"
   ]
  },
  {
   "cell_type": "code",
   "execution_count": 37,
   "id": "5dd985b7-4cd2-4b57-bfb1-34aae3af7c79",
   "metadata": {},
   "outputs": [
    {
     "name": "stdin",
     "output_type": "stream",
     "text": [
      "Enter the encrypted message:  apurbamishra\n",
      "Enter the interval used during encryption:  3\n"
     ]
    },
    {
     "name": "stdout",
     "output_type": "stream",
     "text": [
      "Decrypted message: uasa\n"
     ]
    }
   ],
   "source": [
    "def decrypt_message(encrypted_message, interval):\n",
    "    decrypted_message = \"\"\n",
    "\n",
    "    position = interval - 1\n",
    "    while position < len(encrypted_message):\n",
    "        decrypted_message += encrypted_message[position]\n",
    "        position += interval  \n",
    "\n",
    "    return decrypted_message\n",
    "\n",
    "encrypted_message = input(\"Enter the encrypted message: \")\n",
    "interval = int(input(\"Enter the interval used during encryption: \"))\n",
    "\n",
    "decrypted = decrypt_message(encrypted_message, interval)\n",
    "print(\"Decrypted message:\", decrypted)\n"
   ]
  }
 ],
 "metadata": {
  "kernelspec": {
   "display_name": "Python 3 (ipykernel)",
   "language": "python",
   "name": "python3"
  },
  "language_info": {
   "codemirror_mode": {
    "name": "ipython",
    "version": 3
   },
   "file_extension": ".py",
   "mimetype": "text/x-python",
   "name": "python",
   "nbconvert_exporter": "python",
   "pygments_lexer": "ipython3",
   "version": "3.12.7"
  }
 },
 "nbformat": 4,
 "nbformat_minor": 5
}
