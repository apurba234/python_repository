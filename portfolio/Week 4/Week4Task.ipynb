{
 "cells": [
  {
   "cell_type": "markdown",
   "id": "a65cb201-6218-4b03-b019-88242ec5ae1e",
   "metadata": {},
   "source": [
    "1. Functions are often used to validate input. Write a function that accepts a single\n",
    "integer as a parameter and returns True if the integer is in the range 0 to 100\n",
    "(inclusive), or False otherwise. Write a short program to test the function."
   ]
  },
  {
   "cell_type": "code",
   "execution_count": 18,
   "id": "d2d3dd6b-e83c-4eaa-a99e-4dc560085952",
   "metadata": {},
   "outputs": [
    {
     "name": "stdout",
     "output_type": "stream",
     "text": [
      "True\n",
      "False\n",
      "True\n"
     ]
    }
   ],
   "source": [
    "def get_input(number):\n",
    "    \"\"\" checks if the number falls in the range 0 to 100, returns true if it is, else returns false \"\"\"\n",
    "    if number in range(0, 101):\n",
    "        return True\n",
    "    else:\n",
    "        return False\n",
    "\n",
    "print(get_input(45))\n",
    "print(get_input(102))\n",
    "print(get_input(3))"
   ]
  },
  {
   "cell_type": "markdown",
   "id": "df0a772b-1c6a-476f-9ba5-fc4b30a5ddab",
   "metadata": {},
   "source": [
    "2. Write a function that has a single string as its parameter, and returns the number of\n",
    "uppercase letters, and the number of lowercase letters in the string. Test the\n",
    "function with a short program."
   ]
  },
  {
   "cell_type": "code",
   "execution_count": 39,
   "id": "7d8c03d4-c689-42a1-ade2-9d123e64d357",
   "metadata": {},
   "outputs": [
    {
     "name": "stdout",
     "output_type": "stream",
     "text": [
      "The number of uppercase and lowercase letters in the given string are below: \n",
      "(2, 8)\n",
      "(8, 3)\n"
     ]
    }
   ],
   "source": [
    "def letter(word):\n",
    "    \"\"\" counts uppercase and lowercase letters of a string \"\"\"\n",
    "    uppercase_letters = \"ABCDEFGHIJKLMNOPQRSTUVWXYZ\"\n",
    "    lowercase_letters = \"abcdefghijklmnopqrstuvwxyz\"\n",
    "    \n",
    "    uppercase_number = 0\n",
    "    lowercase_number = 0\n",
    "    \n",
    "    for character in word:\n",
    "        if character in uppercase_letters:\n",
    "            uppercase_number = uppercase_number + 1\n",
    "        elif character in lowercase_letters:\n",
    "            lowercase_number = lowercase_number + 1 \n",
    "    return uppercase_number, lowercase_number\n",
    "\n",
    "\n",
    "print(\"The number of uppercase and lowercase letters in the given string are below: \")\n",
    "print(letter(\"Hello World\"))\n",
    "print(letter(\"NEW YORK City\"))"
   ]
  },
  {
   "cell_type": "markdown",
   "id": "ac1fa663-0c9b-48ea-babe-34a004537a07",
   "metadata": {},
   "source": [
    "3. Modify your \"greetings\" program so that the first letter of the name entered is\n",
    "always in uppercase with the rest in lowercase. This should happen even if the user\n",
    "entered their name differently. So if the user entered arthur, ARTHUR, or even\n",
    "arTHur the name should be displayed as Arthur."
   ]
  },
  {
   "cell_type": "code",
   "execution_count": 10,
   "id": "6e0e1dc6-6557-4db3-9855-bc1c6d877a93",
   "metadata": {},
   "outputs": [
    {
     "name": "stdout",
     "output_type": "stream",
     "text": [
      "Hello, what is your name? apurba\n"
     ]
    },
    {
     "name": "stdout",
     "output_type": "stream",
     "text": [
      "Hello, Apurba. Good to meet you!\n"
     ]
    }
   ],
   "source": [
    "def user_input():\n",
    "    \"\"\" asks for name from user and returns it \"\"\"\n",
    "    name = input(\"Hello, what is your name?\")\n",
    "    return name \n",
    "    \n",
    "def check_name(name):\n",
    "    \"\"\" checks if name is vacant else prints name with first letter capitalized\"\"\"\n",
    "    if name == \"\":\n",
    "        print(\"Hello, Stranger!\")\n",
    "    else:\n",
    "        name = name[0].upper() + name[1:].lower()\n",
    "        print(f\"Hello, {name}. Good to meet you!\")\n",
    "\n",
    "name = user_input()\n",
    "check_name(name)\n",
    "\n"
   ]
  },
  {
   "cell_type": "markdown",
   "id": "2f8ce907-bec3-418d-bd1b-487c0241a5f8",
   "metadata": {},
   "source": [
    "4. When processing data it is often useful to remove the last character from some\n",
    "input (it is often a newline). Write and test a function that takes a string parameter\n",
    "and returns it with the last character removed. (If the string contains one or fewer\n",
    "characters, return it unchanged.)"
   ]
  },
  {
   "cell_type": "code",
   "execution_count": 23,
   "id": "c3bfa780-14a4-42cf-b357-e1fa0a46fd30",
   "metadata": {},
   "outputs": [
    {
     "name": "stdout",
     "output_type": "stream",
     "text": [
      "apurb\n",
      "New Yor\n"
     ]
    }
   ],
   "source": [
    "def remove_character(string_input):\n",
    "    \"\"\"Removes the last character of a string if the string has more than one character.\"\"\"\n",
    "    if len(string_input) > 1:\n",
    "        return string_input[:-1]  \n",
    "    else:\n",
    "        return string_input \n",
    "\n",
    "print(remove_character(\"apurba\"))\n",
    "print(remove_character(\"New York\"))"
   ]
  },
  {
   "cell_type": "markdown",
   "id": "dec138ef-b316-4d28-948e-af99228c3849",
   "metadata": {},
   "source": [
    "5. Write and test a function that converts a temperature measured in degrees\n",
    "centigrade into the equivalent in fahrenheit, and another that does the reverse\n",
    "conversion. Test both functions. (Google will find you the formulae)."
   ]
  },
  {
   "cell_type": "code",
   "execution_count": 10,
   "id": "09a7e2ea-ac31-419c-82cb-bac3fb4f5584",
   "metadata": {},
   "outputs": [
    {
     "name": "stdout",
     "output_type": "stream",
     "text": [
      "Temperature Conversion:\n",
      "1. Celsius to Fahrenheit\n",
      "2. Fahrenheit to Celsius\n",
      "3. Exit\n"
     ]
    },
    {
     "name": "stdout",
     "output_type": "stream",
     "text": [
      "Enter the number from menu to do the operation:  1\n",
      "Enter temperature in Celsius:  3\n"
     ]
    },
    {
     "name": "stdout",
     "output_type": "stream",
     "text": [
      "The Fahrenheit value is:  37.4\n",
      "\n",
      "Temperature Conversion:\n",
      "1. Celsius to Fahrenheit\n",
      "2. Fahrenheit to Celsius\n",
      "3. Exit\n"
     ]
    },
    {
     "name": "stdout",
     "output_type": "stream",
     "text": [
      "Enter the number from menu to do the operation:  3\n"
     ]
    },
    {
     "name": "stdout",
     "output_type": "stream",
     "text": [
      "Program exited successfully.\n"
     ]
    }
   ],
   "source": [
    "def celsius_to_fahrenheit(celsius):\n",
    "    \"\"\"Converts temperature from Celsius to Fahrenheit.\"\"\"\n",
    "    fahrenheit = (celsius * 9/5) + 32\n",
    "    print(\"The Fahrenheit value is: \", fahrenheit)\n",
    "    print()\n",
    "\n",
    "def fahrenheit_to_celsius(fahrenheit):\n",
    "    \"\"\"Converts temperature from Fahrenheit to Celsius.\"\"\"\n",
    "    celsius = (fahrenheit - 32) * 5/9\n",
    "    print(\"The Celsius value is: \", celsius)\n",
    "    print()\n",
    "\n",
    "def menu():\n",
    "    \"\"\"Displays the menu for temperature conversion.\"\"\"\n",
    "    print(\"Temperature Conversion:\")\n",
    "    print(\"1. Celsius to Fahrenheit\")\n",
    "    print(\"2. Fahrenheit to Celsius\")\n",
    "    print(\"3. Exit\")\n",
    "\n",
    "boolean = True\n",
    "while boolean:\n",
    "    menu()  \n",
    "    temp_input = int(input(\"Enter the number from menu to do the operation: \"))\n",
    "\n",
    "    if temp_input == 1:\n",
    "        celsius = float(input(\"Enter temperature in Celsius: \"))\n",
    "        celsius_to_fahrenheit(celsius)\n",
    "    elif temp_input == 2:\n",
    "        fahrenheit = float(input(\"Enter temperature in Fahrenheit: \"))\n",
    "        fahrenheit_to_celsius(fahrenheit)\n",
    "    elif temp_input == 3:\n",
    "        boolean = False  \n",
    "        print(\"Program exited successfully.\")\n",
    "    else:\n",
    "        print(\"Invalid input. Please try again.\")\n"
   ]
  },
  {
   "cell_type": "markdown",
   "id": "9a916123-3e1e-41bc-9275-f50485fc8e71",
   "metadata": {},
   "source": [
    "6. Write a program that takes a centigrade temperature and displays the equivalent in\n",
    "fahrenheit. The input should be a number followed by a letter C. The output should\n",
    "be in the same format."
   ]
  },
  {
   "cell_type": "code",
   "execution_count": 12,
   "id": "3b928315-69ad-45ca-bebb-ab238f999ca7",
   "metadata": {},
   "outputs": [
    {
     "name": "stdout",
     "output_type": "stream",
     "text": [
      "Enter temperature in Celsius:  45c\n"
     ]
    },
    {
     "name": "stdout",
     "output_type": "stream",
     "text": [
      "113.0F\n"
     ]
    }
   ],
   "source": [
    "def celsius_to_fahrenheit(celsius):\n",
    "    \"\"\"Converts temperature from Celsius to Fahrenheit.\"\"\"\n",
    "    fahrenheit = (celsius * 9/5) + 32\n",
    "    return fahrenheit\n",
    "\n",
    "temp_input = input(\"Enter temperature in Celsius: \")\n",
    "\n",
    "if temp_input[-1].upper() == 'C':\n",
    "    celsius_value = float(temp_input[:-1]) #converts string value before letter c to float value \n",
    "    fahrenheit_value = celsius_to_fahrenheit(celsius_value)\n",
    "    print(f\"{fahrenheit_value}F\")  \n",
    "else:\n",
    "    print(\"Wrong input format. Please enter the value followed by 'c'.\")\n"
   ]
  },
  {
   "cell_type": "markdown",
   "id": "3be5c082-04ea-4735-8969-ad742da49997",
   "metadata": {},
   "source": [
    "7. Write a program that reads 6 temperatures (in the same format as before), and\n",
    "displays the maximum, minimum, and mean of the values.\n",
    "Hint: You should know there are built-in functions for max and min. If you hunt, you\n",
    "might also find one for the mean."
   ]
  },
  {
   "cell_type": "code",
   "execution_count": 23,
   "id": "c32a8e9f-f5ba-4def-a392-6ea1a519d6c3",
   "metadata": {},
   "outputs": [
    {
     "name": "stdout",
     "output_type": "stream",
     "text": [
      "Enter temperature 1:  3\n",
      "Enter temperature 2:  4\n",
      "Enter temperature 3:  5\n",
      "Enter temperature 4:  1.4\n",
      "Enter temperature 5:  6.98\n",
      "Enter temperature 6:  2\n"
     ]
    },
    {
     "name": "stdout",
     "output_type": "stream",
     "text": [
      "\n",
      "Maximum temperature: 6.98\n",
      "Minimum temperature: 1.4\n",
      "Mean temperature: 3.730\n"
     ]
    }
   ],
   "source": [
    "import statistics # To use mean method\n",
    "\n",
    "def get_temperatures():\n",
    "    \"\"\"Function to get the temperatures from the user.\"\"\"\n",
    "    input_temperatures = []\n",
    "    for i in range(6):\n",
    "        temp_value = float(input(f\"Enter temperature {i + 1}: \"))\n",
    "        input_temperatures.append(temp_value)\n",
    "    return input_temperatures\n",
    "\n",
    "def calculate_max(temperatures):\n",
    "    \"\"\"Function to calculate the maximum temperature.\"\"\"\n",
    "    return max(temperatures)\n",
    "\n",
    "def calculate_min(temperatures):\n",
    "    \"\"\"Function to calculate the minimum temperature.\"\"\"\n",
    "    return min(temperatures)\n",
    "\n",
    "def calculate_mean(temperatures):\n",
    "    \"\"\"Function to calculate the mean temperature.\"\"\"\n",
    "    return statistics.mean(temperatures)\n",
    "\n",
    "def temperature():\n",
    "    \"\"\"Main function for calculation.\"\"\"\n",
    "    input_temperatures = get_temperatures()\n",
    "    \n",
    "    max_temp = calculate_max(input_temperatures)\n",
    "    min_temp = calculate_min(input_temperatures)\n",
    "    mean_temp = calculate_mean(input_temperatures)\n",
    "\n",
    "    print()\n",
    "    print(f\"Maximum temperature: {max_temp}\")\n",
    "    print(f\"Minimum temperature: {min_temp}\")\n",
    "    print(f\"Mean temperature: {mean_temp:.3f}\")\n",
    "\n",
    "temperature()\n"
   ]
  },
  {
   "cell_type": "markdown",
   "id": "aa059e92-c910-4daa-9d3d-16182716543f",
   "metadata": {},
   "source": [
    "8. Modify the previous program so that it can process any number of values. The input\n",
    "terminates when the user just pressed \"Enter\" at the prompt rather than entering a\n",
    "value."
   ]
  },
  {
   "cell_type": "code",
   "execution_count": null,
   "id": "402307ba-8308-49a8-aea6-ea084003b899",
   "metadata": {},
   "outputs": [
    {
     "name": "stdout",
     "output_type": "stream",
     "text": [
      "Enter temperature or press Enter to finish:  3\n",
      "Enter temperature or press Enter to finish:  4\n",
      "Enter temperature or press Enter to finish:  3\n",
      "Enter temperature or press Enter to finish:  4.45\n",
      "Enter temperature or press Enter to finish:  \n"
     ]
    },
    {
     "name": "stdout",
     "output_type": "stream",
     "text": [
      "\n",
      "Maximum temperature: 4.45\n",
      "Minimum temperature: 3.0\n",
      "Mean temperature: 3.612\n"
     ]
    }
   ],
   "source": [
    "import statistics \n",
    "\n",
    "def get_temperatures():\n",
    "    \"\"\"Function to get temperatures from the user until Enter is pressed.\"\"\"\n",
    "    input_temperatures = []\n",
    "    while True:\n",
    "        temp_value = input(f\"Enter temperature or press Enter to finish: \")\n",
    "        \n",
    "        if temp_value == \"\":\n",
    "            break\n",
    "        else:\n",
    "            input_temperatures.append(float(temp_value))\n",
    "    \n",
    "    return input_temperatures\n",
    "\n",
    "def calculate_max(temperatures):\n",
    "    \"\"\"Function to calculate the maximum temperature.\"\"\"\n",
    "    return max(temperatures)\n",
    "\n",
    "def calculate_min(temperatures):\n",
    "    \"\"\"Function to calculate the minimum temperature.\"\"\"\n",
    "    return min(temperatures)\n",
    "\n",
    "def calculate_mean(temperatures):\n",
    "    \"\"\"Function to calculate the mean temperature.\"\"\"\n",
    "    return statistics.mean(temperatures)\n",
    "\n",
    "def temperature():\n",
    "    \"\"\"Main function for calculation.\"\"\"\n",
    "    input_temperatures = get_temperatures()\n",
    "\n",
    "    if len(input_temperatures) == 0:\n",
    "        print(\"No temperatures were entered. Exiting the program.\")\n",
    "    else:\n",
    "        max_temp = calculate_max(input_temperatures)\n",
    "        min_temp = calculate_min(input_temperatures)\n",
    "        mean_temp = calculate_mean(input_temperatures)\n",
    "\n",
    "        print()\n",
    "        print(f\"Maximum temperature: {max_temp}\")\n",
    "        print(f\"Minimum temperature: {min_temp}\")\n",
    "        print(f\"Mean temperature: {mean_temp:.3f}\")\n",
    "\n",
    "temperature()\n"
   ]
  },
  {
   "cell_type": "code",
   "execution_count": null,
   "id": "6b645603-2779-476d-943a-0921a9725e67",
   "metadata": {},
   "outputs": [],
   "source": []
  }
 ],
 "metadata": {
  "kernelspec": {
   "display_name": "Python 3 (ipykernel)",
   "language": "python",
   "name": "python3"
  },
  "language_info": {
   "codemirror_mode": {
    "name": "ipython",
    "version": 3
   },
   "file_extension": ".py",
   "mimetype": "text/x-python",
   "name": "python",
   "nbconvert_exporter": "python",
   "pygments_lexer": "ipython3",
   "version": "3.12.7"
  }
 },
 "nbformat": 4,
 "nbformat_minor": 5
}
